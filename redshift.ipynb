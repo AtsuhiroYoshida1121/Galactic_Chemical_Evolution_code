{
 "cells": [
  {
   "cell_type": "code",
   "execution_count": 10,
   "metadata": {},
   "outputs": [],
   "source": [
    "import numpy as np\n",
    "from scipy import integrate\n",
    "import scipy.special as special\n",
    "import matplotlib.pyplot as plt\n",
    "import seaborn as sns\n",
    "%matplotlib inline"
   ]
  },
  {
   "cell_type": "code",
   "execution_count": 11,
   "metadata": {},
   "outputs": [],
   "source": [
    "#parameter\n",
    "AU = 1.495978707 * 10**(11.0) #[m]\n",
    "pc = AU/(np.tan((1.0/3600.0)*np.pi/180.0)) #[m]\n",
    "s = (365.25*24.0*60.0*60.0)**(-1) #[yr]\n",
    "\n",
    "#Plank collaboration ; Plank 2015 results\n",
    "h_0_67 = 0.6727 #67.27+-0.66 [km/s/Mpc]  ; PLANK satellite\n",
    "h_0 = 100.0*h_0_67 #[km/s/Mpc] ; current Hubble parameter\n",
    "H_0 = 10**(3.0)/(s*10**6*pc)*h_0 #[1/yr]\n",
    "\n",
    "omega_matter_0 = 0.1427 * h_0_67**(-2.0) # 0.1427h**(-2)+-0.0014\n",
    "omega_lambda_0 = 0.6844 # 0.6844+-0.0091\n",
    "omega_radiation_0 = 4.13 * 10**(-5) * h_0_67**(-2.0) \n",
    "omega_k_0 = 1.0 - (omega_matter_0+omega_lambda_0+omega_radiation_0)\n",
    "\n",
    "c = 2.99792058 * 10**(8.0) #[m/s]"
   ]
  },
  {
   "cell_type": "code",
   "execution_count": 12,
   "metadata": {},
   "outputs": [],
   "source": [
    "#Integrand\n",
    "def integrand(z):\n",
    "    integrand = 1.0/(H_0*(1.0+z)*np.sqrt(omega_matter_0*(1.0+z)**(3.0) + omega_radiation_0*(1.0+z)**(4.0) + omega_lambda_0 + omega_k_0*(1.0+z)**(2.0)))\n",
    "    return integrand"
   ]
  },
  {
   "cell_type": "code",
   "execution_count": 13,
   "metadata": {},
   "outputs": [],
   "source": [
    "#Integral\n",
    "def integration(z1):\n",
    "    result = np.zeros(len(z1))\n",
    "    for i in range(len(z1)):\n",
    "        integration = integrate.quad(lambda z : integrand(z),0.0,z1[i])[0]\n",
    "        result[i] = integration/10**9 #[Gyr]\n",
    "    return result"
   ]
  },
  {
   "cell_type": "code",
   "execution_count": 14,
   "metadata": {},
   "outputs": [
    {
     "name": "stdout",
     "output_type": "stream",
     "text": [
      "13.81246490463132\n"
     ]
    }
   ],
   "source": [
    "#limit\n",
    "limit = integrate.quad(lambda z : integrand(z),0.0,np.inf)[0]/10**9\n",
    "print(limit)"
   ]
  },
  {
   "cell_type": "code",
   "execution_count": 15,
   "metadata": {},
   "outputs": [
    {
     "name": "stdout",
     "output_type": "stream",
     "text": [
      "[ 0.14428903  0.83492123  1.47740501 ... 13.8124163  13.8124163\n",
      " 13.81241631]\n"
     ]
    }
   ],
   "source": [
    "z1 = np.arange(0.01,3500,0.05)\n",
    "#print(z1)\n",
    "time = integration(z1)\n",
    "print(time)"
   ]
  },
  {
   "cell_type": "code",
   "execution_count": 93,
   "metadata": {},
   "outputs": [
    {
     "name": "stdout",
     "output_type": "stream",
     "text": [
      "[3.49996e+03 3.49991e+03 3.49986e+03 ... 1.10000e-01 6.00000e-02\n",
      " 1.00000e-02]\n"
     ]
    }
   ],
   "source": [
    "age = limit - time\n",
    "#print(age)\n",
    "age_of_universe = age[::-1]\n",
    "#print(age1)\n",
    "z2 = z1[::-1]\n",
    "#print(z2)"
   ]
  },
  {
   "cell_type": "code",
   "execution_count": 38,
   "metadata": {},
   "outputs": [
    {
     "data": {
      "image/png": "[encoded data removed]",
      "text/plain": [
       "<Figure size 432x288 with 1 Axes>"
      ]
     },
     "metadata": {
      "needs_background": "light"
     },
     "output_type": "display_data"
    }
   ],
   "source": [
    "plt.plot(z1,age,linestyle='solid',lw=1.0,color='blue')\n",
    "\n",
    "ax = plt.gca()\n",
    "ax.set_xscale('log')\n",
    "\n",
    "plt.xlim(0.06,3500)\n",
    "plt.ylim(0,14)\n",
    "plt.show()"
   ]
  },
  {
   "cell_type": "code",
   "execution_count": 92,
   "metadata": {},
   "outputs": [
    {
     "data": {
      "image/png": "[encoded data removed]",
      "text/plain": [
       "<Figure size 432x288 with 1 Axes>"
      ]
     },
     "metadata": {
      "needs_background": "light"
     },
     "output_type": "display_data"
    }
   ],
   "source": [
    "plt.plot(age_of_universe,z2,color='blue')\n",
    "#plt.plot(age,z1,color='blue')\n",
    "ax = plt.gca()\n",
    "ax.set_yscale('log')\n",
    "\n",
    "plt.ylim(0.06,3500)\n",
    "plt.xlim(0,14)\n",
    "plt.show()"
   ]
  },
  {
   "cell_type": "code",
   "execution_count": 104,
   "metadata": {},
   "outputs": [
    {
     "name": "stdout",
     "output_type": "stream",
     "text": [
      "1044.41\n"
     ]
    }
   ],
   "source": [
    "def gNV(lis, num):\n",
    "    idx = np.abs(np.asarray(lis) - num).argmin()\n",
    "    return z2[idx]\n",
    "\n",
    "print(gNV(age_of_universe, 0.0004))"
   ]
  },
  {
   "cell_type": "code",
   "execution_count": null,
   "metadata": {},
   "outputs": [],
   "source": []
  },
  {
   "cell_type": "markdown",
   "metadata": {},
   "source": [
    "## フィットはダメ"
   ]
  },
  {
   "cell_type": "code",
   "execution_count": 72,
   "metadata": {},
   "outputs": [
    {
     "data": {
      "image/png": "[encoded data removed]",
      "text/plain": [
       "<Figure size 432x288 with 1 Axes>"
      ]
     },
     "metadata": {
      "needs_background": "light"
     },
     "output_type": "display_data"
    }
   ],
   "source": [
    "num = 4\n",
    "\n",
    "x = np.array(age_of_universe)\n",
    "y = np.array(z1)\n",
    "coe = np.polyfit(x, y, num)\n",
    "#print('多項式の係数{0}'.format(line))\n",
    "#print(line[1])\n",
    "\n",
    "age = x.tolist()\n",
    "redshift = []\n",
    "\n",
    "for i in range(len(age)):\n",
    "    Z = coe[0]*age[i]**(num-1) + coe[1]*age[i]**(num-2) + coe[2]*age[i]**(num-3) + coe[3]*age[i]**(num-4)\n",
    "    redshift.append(Z)\n",
    "\n",
    "#print(redshift)\n",
    "\n",
    "#plt.scatter(x,y)\n",
    "plt.plot(age,redshift)\n",
    "ax = plt.gca()\n",
    "ax.set_yscale('log')\n",
    "#plt.ylim(0.06,3500)\n",
    "#plt.xlim(0,14)\n",
    "plt.show()\n"
   ]
  },
  {
   "cell_type": "code",
   "execution_count": 87,
   "metadata": {},
   "outputs": [
    {
     "data": {
      "image/png": "[encoded data removed]",
      "text/plain": [
       "<Figure size 432x288 with 1 Axes>"
      ]
     },
     "metadata": {
      "needs_background": "light"
     },
     "output_type": "display_data"
    }
   ],
   "source": [
    "num = 5\n",
    "\n",
    "x = np.array(age_of_universe)\n",
    "y = np.array(z1)\n",
    "coe = np.polyfit(x, y, num)\n",
    "\n",
    "u = np.arange(0, 13.6, 0.01)\n",
    "v = coe[0]*u**(num-1) + coe[1]*u**(num-2) + coe[2]*u**(num-3) + coe[3]*u**(num-4) + coe[4]*u**(num-5)\n",
    "#v = coe[0]*u**(num-1) + coe[1]*u**(num-2)\n",
    "plt.plot(u, v, color = 'red')\n",
    "plt.scatter(x,y)\n",
    "ax = plt.gca()\n",
    "#ax.set_yscale('log')\n",
    "#plt.ylim(0.06,3500)\n",
    "#plt.xlim(0,14)\n",
    "plt.show()"
   ]
  },
  {
   "cell_type": "code",
   "execution_count": null,
   "metadata": {},
   "outputs": [],
   "source": []
  }
 ],
 "metadata": {
  "kernelspec": {
   "display_name": "Python 3",
   "language": "python",
   "name": "python3"
  },
  "language_info": {
   "codemirror_mode": {
    "name": "ipython",
    "version": 3
   },
   "file_extension": ".py",
   "mimetype": "text/x-python",
   "name": "python",
   "nbconvert_exporter": "python",
   "pygments_lexer": "ipython3",
   "version": "3.8.3"
  }
 },
 "nbformat": 4,
 "nbformat_minor": 4
}
